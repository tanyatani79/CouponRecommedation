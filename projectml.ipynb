{
  "nbformat": 4,
  "nbformat_minor": 0,
  "metadata": {
    "colab": {
      "provenance": []
    },
    "kernelspec": {
      "name": "python3",
      "display_name": "Python 3"
    },
    "language_info": {
      "name": "python"
    }
  },
  "cells": [
    {
      "cell_type": "code",
      "execution_count": null,
      "metadata": {
        "id": "waGM9D-BTJtt",
        "colab": {
          "base_uri": "https://localhost:8080/"
        },
        "outputId": "65b345f0-be58-4d51-d8f6-0925fd7aed7e"
      },
      "outputs": [
        {
          "output_type": "stream",
          "name": "stderr",
          "text": [
            "/usr/local/lib/python3.10/dist-packages/ipykernel/ipkernel.py:283: DeprecationWarning: `should_run_async` will not call `transform_cell` automatically in the future. Please pass the result to `transformed_cell` argument and any exception that happen during thetransform in `preprocessing_exc_tuple` in IPython 7.17 and above.\n",
            "  and should_run_async(code)\n"
          ]
        },
        {
          "output_type": "stream",
          "name": "stdout",
          "text": [
            "   Apples  Biscuit  Bread  Butter  Coffee  Eggs  Jam  Milk  Oranges\n",
            "0       0        0      0       0       1     1    0     1        0\n",
            "1       0        1      1       0       0     0    0     0        1\n",
            "2       0        0      0       0       1     1    1     0        0\n",
            "3       1        0      0       0       1     0    1     0        0\n",
            "4       0        0      0       0       1     0    0     1        1\n"
          ]
        }
      ],
      "source": [
        "import pandas as pd\n",
        "# Load the dataset\n",
        "df = pd.read_csv(\"grocery_data_with_dates.csv\")\n",
        "\n",
        "# Split items for each transaction into a list\n",
        "df['Items'] = df['Items'].apply(lambda x: x.split(\", \"))\n",
        "\n",
        "# Use one-hot encoding to transform the data into a transaction matrix\n",
        "basket = df['Items'].str.join('|').str.get_dummies()\n",
        "\n",
        "# Display the first few rows to verify the transformation\n",
        "print(basket.head())\n"
      ]
    },
    {
      "cell_type": "code",
      "source": [
        "from google.colab import drive\n",
        "drive.mount('/content/drive')"
      ],
      "metadata": {
        "id": "YKbH5-Gq0ijj"
      },
      "execution_count": null,
      "outputs": []
    },
    {
      "cell_type": "code",
      "source": [
        "!pip install flask-ngrok"
      ],
      "metadata": {
        "id": "RCjDloHhmfJL",
        "colab": {
          "base_uri": "https://localhost:8080/"
        },
        "outputId": "c0dccda0-baf1-4d20-fb90-3f58aa734dbc"
      },
      "execution_count": null,
      "outputs": [
        {
          "output_type": "stream",
          "name": "stdout",
          "text": [
            "Requirement already satisfied: flask-ngrok in /usr/local/lib/python3.10/dist-packages (0.0.25)\n",
            "Requirement already satisfied: Flask>=0.8 in /usr/local/lib/python3.10/dist-packages (from flask-ngrok) (3.0.3)\n",
            "Requirement already satisfied: requests in /usr/local/lib/python3.10/dist-packages (from flask-ngrok) (2.32.3)\n",
            "Requirement already satisfied: Werkzeug>=3.0.0 in /usr/local/lib/python3.10/dist-packages (from Flask>=0.8->flask-ngrok) (3.1.3)\n",
            "Requirement already satisfied: Jinja2>=3.1.2 in /usr/local/lib/python3.10/dist-packages (from Flask>=0.8->flask-ngrok) (3.1.4)\n",
            "Requirement already satisfied: itsdangerous>=2.1.2 in /usr/local/lib/python3.10/dist-packages (from Flask>=0.8->flask-ngrok) (2.2.0)\n",
            "Requirement already satisfied: click>=8.1.3 in /usr/local/lib/python3.10/dist-packages (from Flask>=0.8->flask-ngrok) (8.1.7)\n",
            "Requirement already satisfied: blinker>=1.6.2 in /usr/local/lib/python3.10/dist-packages (from Flask>=0.8->flask-ngrok) (1.9.0)\n",
            "Requirement already satisfied: charset-normalizer<4,>=2 in /usr/local/lib/python3.10/dist-packages (from requests->flask-ngrok) (3.4.0)\n",
            "Requirement already satisfied: idna<4,>=2.5 in /usr/local/lib/python3.10/dist-packages (from requests->flask-ngrok) (3.10)\n",
            "Requirement already satisfied: urllib3<3,>=1.21.1 in /usr/local/lib/python3.10/dist-packages (from requests->flask-ngrok) (2.2.3)\n",
            "Requirement already satisfied: certifi>=2017.4.17 in /usr/local/lib/python3.10/dist-packages (from requests->flask-ngrok) (2024.8.30)\n",
            "Requirement already satisfied: MarkupSafe>=2.0 in /usr/local/lib/python3.10/dist-packages (from Jinja2>=3.1.2->Flask>=0.8->flask-ngrok) (3.0.2)\n"
          ]
        }
      ]
    },
    {
      "cell_type": "code",
      "source": [
        "from mlxtend.frequent_patterns import apriori, association_rules\n",
        "\n",
        "# Generate frequent itemsets with a minimum support threshold\n",
        "frequent_itemsets = apriori(basket, min_support=0.05, use_colnames=True)\n",
        "\n",
        "# Display the first few frequent itemsets\n",
        "print(frequent_itemsets.head())\n"
      ],
      "metadata": {
        "colab": {
          "base_uri": "https://localhost:8080/"
        },
        "id": "L-Sg_k6EUGYz",
        "outputId": "d9cd09a4-9a02-49ba-fdf3-327481f93fbc"
      },
      "execution_count": null,
      "outputs": [
        {
          "output_type": "stream",
          "name": "stderr",
          "text": [
            "/usr/local/lib/python3.10/dist-packages/mlxtend/frequent_patterns/fpcommon.py:161: DeprecationWarning: DataFrames with non-bool types result in worse computationalperformance and their support might be discontinued in the future.Please use a DataFrame with bool type\n",
            "  warnings.warn(\n"
          ]
        },
        {
          "output_type": "stream",
          "name": "stdout",
          "text": [
            "   support   itemsets\n",
            "0  0.39278   (Apples)\n",
            "1  0.39046  (Biscuit)\n",
            "2  0.39104    (Bread)\n",
            "3  0.39018   (Butter)\n",
            "4  0.38992   (Coffee)\n"
          ]
        }
      ]
    },
    {
      "cell_type": "code",
      "source": [
        "pip install mlxtend --upgrade"
      ],
      "metadata": {
        "colab": {
          "base_uri": "https://localhost:8080/"
        },
        "id": "qu_x_QSKUIoN",
        "outputId": "5977db4c-1587-4161-d244-7dcfa9ffb94f"
      },
      "execution_count": null,
      "outputs": [
        {
          "output_type": "stream",
          "name": "stderr",
          "text": [
            "/usr/local/lib/python3.10/dist-packages/ipykernel/ipkernel.py:283: DeprecationWarning: `should_run_async` will not call `transform_cell` automatically in the future. Please pass the result to `transformed_cell` argument and any exception that happen during thetransform in `preprocessing_exc_tuple` in IPython 7.17 and above.\n",
            "  and should_run_async(code)\n"
          ]
        },
        {
          "output_type": "stream",
          "name": "stdout",
          "text": [
            "Requirement already satisfied: mlxtend in /usr/local/lib/python3.10/dist-packages (0.23.3)\n",
            "Requirement already satisfied: scipy>=1.2.1 in /usr/local/lib/python3.10/dist-packages (from mlxtend) (1.13.1)\n",
            "Requirement already satisfied: numpy>=1.16.2 in /usr/local/lib/python3.10/dist-packages (from mlxtend) (1.26.4)\n",
            "Requirement already satisfied: pandas>=0.24.2 in /usr/local/lib/python3.10/dist-packages (from mlxtend) (2.2.2)\n",
            "Requirement already satisfied: scikit-learn>=1.3.1 in /usr/local/lib/python3.10/dist-packages (from mlxtend) (1.5.2)\n",
            "Requirement already satisfied: matplotlib>=3.0.0 in /usr/local/lib/python3.10/dist-packages (from mlxtend) (3.8.0)\n",
            "Requirement already satisfied: joblib>=0.13.2 in /usr/local/lib/python3.10/dist-packages (from mlxtend) (1.4.2)\n",
            "Requirement already satisfied: contourpy>=1.0.1 in /usr/local/lib/python3.10/dist-packages (from matplotlib>=3.0.0->mlxtend) (1.3.1)\n",
            "Requirement already satisfied: cycler>=0.10 in /usr/local/lib/python3.10/dist-packages (from matplotlib>=3.0.0->mlxtend) (0.12.1)\n",
            "Requirement already satisfied: fonttools>=4.22.0 in /usr/local/lib/python3.10/dist-packages (from matplotlib>=3.0.0->mlxtend) (4.54.1)\n",
            "Requirement already satisfied: kiwisolver>=1.0.1 in /usr/local/lib/python3.10/dist-packages (from matplotlib>=3.0.0->mlxtend) (1.4.7)\n",
            "Requirement already satisfied: packaging>=20.0 in /usr/local/lib/python3.10/dist-packages (from matplotlib>=3.0.0->mlxtend) (24.2)\n",
            "Requirement already satisfied: pillow>=6.2.0 in /usr/local/lib/python3.10/dist-packages (from matplotlib>=3.0.0->mlxtend) (11.0.0)\n",
            "Requirement already satisfied: pyparsing>=2.3.1 in /usr/local/lib/python3.10/dist-packages (from matplotlib>=3.0.0->mlxtend) (3.2.0)\n",
            "Requirement already satisfied: python-dateutil>=2.7 in /usr/local/lib/python3.10/dist-packages (from matplotlib>=3.0.0->mlxtend) (2.8.2)\n",
            "Requirement already satisfied: pytz>=2020.1 in /usr/local/lib/python3.10/dist-packages (from pandas>=0.24.2->mlxtend) (2024.2)\n",
            "Requirement already satisfied: tzdata>=2022.7 in /usr/local/lib/python3.10/dist-packages (from pandas>=0.24.2->mlxtend) (2024.2)\n",
            "Requirement already satisfied: threadpoolctl>=3.1.0 in /usr/local/lib/python3.10/dist-packages (from scikit-learn>=1.3.1->mlxtend) (3.5.0)\n",
            "Requirement already satisfied: six>=1.5 in /usr/local/lib/python3.10/dist-packages (from python-dateutil>=2.7->matplotlib>=3.0.0->mlxtend) (1.16.0)\n"
          ]
        }
      ]
    },
    {
      "cell_type": "code",
      "source": [
        "# Generate association rules with a minimum confidence threshold\n",
        "\n",
        "rules = association_rules(frequent_itemsets, metric=\"confidence\", min_threshold=0.05, num_itemsets=len(frequent_itemsets))\n",
        "\n",
        "# Display the first few rules\n",
        "print(rules[['antecedents', 'consequents', 'support', 'confidence', 'lift']].head())\n"
      ],
      "metadata": {
        "colab": {
          "base_uri": "https://localhost:8080/"
        },
        "id": "cF-nRdFEUKtx",
        "outputId": "0968a6d2-c728-45a8-d8d8-89b213d1dfbf"
      },
      "execution_count": null,
      "outputs": [
        {
          "output_type": "stream",
          "name": "stdout",
          "text": [
            "  antecedents consequents  support  confidence      lift\n",
            "0    (Apples)   (Biscuit)  0.12530    0.319008  0.817006\n",
            "1   (Biscuit)    (Apples)  0.12530    0.320904  0.817006\n",
            "2    (Apples)     (Bread)  0.12864    0.327512  0.837540\n",
            "3     (Bread)    (Apples)  0.12864    0.328969  0.837540\n",
            "4    (Apples)    (Butter)  0.12638    0.321758  0.824639\n"
          ]
        },
        {
          "output_type": "stream",
          "name": "stderr",
          "text": [
            "/usr/local/lib/python3.10/dist-packages/ipykernel/ipkernel.py:283: DeprecationWarning: `should_run_async` will not call `transform_cell` automatically in the future. Please pass the result to `transformed_cell` argument and any exception that happen during thetransform in `preprocessing_exc_tuple` in IPython 7.17 and above.\n",
            "  and should_run_async(code)\n"
          ]
        }
      ]
    },
    {
      "cell_type": "code",
      "source": [
        "# Display top rules based on lift or confidence for analysis\n",
        "print(rules[['antecedents', 'consequents', 'support', 'confidence', 'lift']].sort_values(by=\"lift\", ascending=False).head(10))\n",
        "\n"
      ],
      "metadata": {
        "colab": {
          "base_uri": "https://localhost:8080/"
        },
        "id": "SzxFjoQaUN3M",
        "outputId": "b9fb3a51-6bf3-49d7-9943-824ef7acff01"
      },
      "execution_count": null,
      "outputs": [
        {
          "output_type": "stream",
          "name": "stdout",
          "text": [
            "   antecedents consequents  support  confidence      lift\n",
            "25       (Jam)   (Biscuit)  0.12652    0.328914  0.842375\n",
            "24   (Biscuit)       (Jam)  0.12652    0.324028  0.842375\n",
            "2     (Apples)     (Bread)  0.12864    0.327512  0.837540\n",
            "3      (Bread)    (Apples)  0.12864    0.328969  0.837540\n",
            "58    (Coffee)   (Oranges)  0.12640    0.324169  0.835918\n",
            "59   (Oranges)    (Coffee)  0.12640    0.325941  0.835918\n",
            "50   (Oranges)    (Butter)  0.12642    0.325993  0.835493\n",
            "51    (Butter)   (Oranges)  0.12642    0.324004  0.835493\n",
            "8     (Apples)      (Eggs)  0.12834    0.326748  0.834946\n",
            "9       (Eggs)    (Apples)  0.12834    0.327950  0.834946\n"
          ]
        },
        {
          "output_type": "stream",
          "name": "stderr",
          "text": [
            "/usr/local/lib/python3.10/dist-packages/ipykernel/ipkernel.py:283: DeprecationWarning: `should_run_async` will not call `transform_cell` automatically in the future. Please pass the result to `transformed_cell` argument and any exception that happen during thetransform in `preprocessing_exc_tuple` in IPython 7.17 and above.\n",
            "  and should_run_async(code)\n"
          ]
        }
      ]
    },
    {
      "cell_type": "code",
      "source": [
        "import matplotlib.pyplot as plt\n",
        "import seaborn as sns\n",
        "\n",
        "# Visualize the association rules with lift > 1\n",
        "high_lift_rules = rules[rules['lift'] > 0.5]\n",
        "\n",
        "# Plot the rules based on lift and confidence\n",
        "plt.figure(figsize=(10, 6))\n",
        "sns.scatterplot(x='support', y='confidence', size='lift', hue='lift', data=high_lift_rules, sizes=(20, 200))\n",
        "plt.title('Association Rules with Lift > 0.1')\n",
        "plt.xlabel('Support')\n",
        "plt.ylabel('Confidence')\n",
        "plt.legend()\n",
        "plt.show()\n"
      ],
      "metadata": {
        "colab": {
          "base_uri": "https://localhost:8080/",
          "height": 619
        },
        "id": "8gYXIQqGUQAb",
        "outputId": "a200376a-f4bb-4130-8fd5-395c2f98cc52"
      },
      "execution_count": null,
      "outputs": [
        {
          "output_type": "stream",
          "name": "stderr",
          "text": [
            "/usr/local/lib/python3.10/dist-packages/ipykernel/ipkernel.py:283: DeprecationWarning: `should_run_async` will not call `transform_cell` automatically in the future. Please pass the result to `transformed_cell` argument and any exception that happen during thetransform in `preprocessing_exc_tuple` in IPython 7.17 and above.\n",
            "  and should_run_async(code)\n"
          ]
        },
        {
          "output_type": "display_data",
          "data": {
            "text/plain": [
              "<Figure size 1000x600 with 1 Axes>"
            ],
            "image/png": "[encoded data removed]"
          },
          "metadata": {}
        }
      ]
    },
    {
      "cell_type": "code",
      "source": [
        "def suggest_pre_cart_for_customer(customer_history, current_items):\n",
        "    recommended_items = set()\n",
        "\n",
        "    # Loop through customer's past purchases (customer_history is a list of items they've bought before)\n",
        "    for item in customer_history:\n",
        "        relevant_rules = rules[rules['antecedents'].apply(lambda x: item in x)]\n",
        "\n",
        "        for consequent in relevant_rules[relevant_rules['confidence'] > 0.5]['consequents']:\n",
        "            recommended_items.update(consequent)\n",
        "\n",
        "    # Suggest pre-cart items based on current items (items customer is adding to the cart)\n",
        "    for item in current_items:\n",
        "        relevant_rules = rules[rules['antecedents'].apply(lambda x: item in x)]\n",
        "\n",
        "        for consequent in relevant_rules[relevant_rules['confidence'] > 0.3]['consequents']:\n",
        "            recommended_items.update(consequent)\n",
        "\n",
        "    # Exclude items already in the current cart\n",
        "    return list(recommended_items - set(customer_history) - set(current_items))\n"
      ],
      "metadata": {
        "colab": {
          "base_uri": "https://localhost:8080/"
        },
        "id": "gtYwH6yNUSFh",
        "outputId": "185b9e72-0f41-4969-fc55-0305ea5a14ce"
      },
      "execution_count": null,
      "outputs": [
        {
          "output_type": "stream",
          "name": "stderr",
          "text": [
            "/usr/local/lib/python3.10/dist-packages/ipykernel/ipkernel.py:283: DeprecationWarning: `should_run_async` will not call `transform_cell` automatically in the future. Please pass the result to `transformed_cell` argument and any exception that happen during thetransform in `preprocessing_exc_tuple` in IPython 7.17 and above.\n",
            "  and should_run_async(code)\n"
          ]
        }
      ]
    },
    {
      "cell_type": "code",
      "source": [
        "# Sample customer's purchase history\n",
        "customer_history = [\"Eggs\", \"Butter\", \"Jam\"]\n",
        "\n",
        "# Sample current cart (items the customer is buying)\n",
        "sample_cart = [\"Milk\", \"Bread\"]\n",
        "\n",
        "# Get pre-cart items for the customer\n",
        "pre_cart = suggest_pre_cart_for_customer(customer_history, sample_cart)\n",
        "\n",
        "print(\"Personalized pre-cart items:\", pre_cart)\n"
      ],
      "metadata": {
        "colab": {
          "base_uri": "https://localhost:8080/"
        },
        "id": "3VlTQYaGUVhs",
        "outputId": "fcb0ee68-32b9-40c6-958f-064325d55996"
      },
      "execution_count": null,
      "outputs": [
        {
          "output_type": "stream",
          "name": "stdout",
          "text": [
            "Personalized pre-cart items: ['Oranges', 'Apples', 'Biscuit', 'Coffee']\n"
          ]
        },
        {
          "output_type": "stream",
          "name": "stderr",
          "text": [
            "/usr/local/lib/python3.10/dist-packages/ipykernel/ipkernel.py:283: DeprecationWarning: `should_run_async` will not call `transform_cell` automatically in the future. Please pass the result to `transformed_cell` argument and any exception that happen during thetransform in `preprocessing_exc_tuple` in IPython 7.17 and above.\n",
            "  and should_run_async(code)\n"
          ]
        }
      ]
    },
    {
      "cell_type": "code",
      "source": [
        "def recommend_coupons(transaction):\n",
        "    recommended_items = set()\n",
        "    for item in transaction:\n",
        "        # Get rules where the item is in the antecedent\n",
        "        relevant_rules = rules[rules['antecedents'].apply(lambda x: item in x)]\n",
        "        # Add consequents of those rules to recommendations if confidence is high\n",
        "        for consequent in relevant_rules[relevant_rules['confidence'] > 0.3]['consequents']:\n",
        "            recommended_items.update(consequent)\n",
        "    # Exclude items already in the transaction\n",
        "    return recommended_items - set(transaction)\n"
      ],
      "metadata": {
        "colab": {
          "base_uri": "https://localhost:8080/"
        },
        "id": "OtiVBz8qUXj4",
        "outputId": "6e5b8ecd-e115-43b8-f9b7-2d696a1057dc"
      },
      "execution_count": null,
      "outputs": [
        {
          "output_type": "stream",
          "name": "stderr",
          "text": [
            "/usr/local/lib/python3.10/dist-packages/ipykernel/ipkernel.py:283: DeprecationWarning: `should_run_async` will not call `transform_cell` automatically in the future. Please pass the result to `transformed_cell` argument and any exception that happen during thetransform in `preprocessing_exc_tuple` in IPython 7.17 and above.\n",
            "  and should_run_async(code)\n"
          ]
        }
      ]
    },
    {
      "cell_type": "code",
      "source": [
        "# Sample transaction\n",
        "sample_transaction = [\"Milk\", \"Bread\"]\n",
        "print(\"Recommended coupons on:\", recommend_coupons(sample_transaction))\n"
      ],
      "metadata": {
        "colab": {
          "base_uri": "https://localhost:8080/"
        },
        "id": "AFGYWNOpUdb8",
        "outputId": "8d8263da-51d4-435f-8dbc-e4950a617d45"
      },
      "execution_count": null,
      "outputs": [
        {
          "output_type": "stream",
          "name": "stdout",
          "text": [
            "Recommended coupons on: {'Eggs', 'Apples', 'Biscuit', 'Jam', 'Coffee', 'Oranges', 'Butter'}\n"
          ]
        },
        {
          "output_type": "stream",
          "name": "stderr",
          "text": [
            "/usr/local/lib/python3.10/dist-packages/ipykernel/ipkernel.py:283: DeprecationWarning: `should_run_async` will not call `transform_cell` automatically in the future. Please pass the result to `transformed_cell` argument and any exception that happen during thetransform in `preprocessing_exc_tuple` in IPython 7.17 and above.\n",
            "  and should_run_async(code)\n"
          ]
        }
      ]
    },
    {
      "cell_type": "code",
      "source": [
        "import random\n",
        "import pandas as pd\n",
        "from datetime import datetime, timedelta\n",
        "\n",
        "# Define a list of sample grocery items\n",
        "grocery_items = [\"Milk\", \"Bread\", \"Eggs\", \"Butter\", \"Apples\", \"Coffee\", \"Biscuit\", \"Jam\", \"Oranges\"]\n",
        "\n",
        "# Define the number of transactions\n",
        "num_transactions = 100\n",
        "\n",
        "\n",
        "\n",
        "# Function to generate discount coupon based on item combinations\n",
        "def generate_discount_coupon(customer_id, cart_items):\n",
        "    # Find rules for the items in the cart\n",
        "    applicable_rules = []\n",
        "\n",
        "    for item in cart_items:\n",
        "        relevant_rules = rules[rules['antecedents'].apply(lambda x: item in x)]\n",
        "\n",
        "        for _, rule in relevant_rules.iterrows():\n",
        "            # Calculate the discount based on confidence or lift\n",
        "            if rule['confidence'] >= 0.3:\n",
        "                applicable_rules.append(rule)\n",
        "\n",
        "    # If we have applicable rules, we can offer a discount\n",
        "    if applicable_rules:\n",
        "        max_rule = max(applicable_rules, key=lambda x: x['confidence'])  # Pick the rule with the highest confidence\n",
        "        discount_percentage = min(60, max_rule['confidence'] * 60)  # Example: maximum 60% discount\n",
        "        return discount_percentage\n",
        "\n",
        "    return 0  # No discount if no applicable rule\n",
        "\n",
        "# Example customer purchase\n",
        "customer_id = \"Customer_1\"\n",
        "sample_cart = [\"Milk\", \"Bread\",\"coffee\"]\n",
        "\n",
        "# Generate a discount for the customer based on the cart\n",
        "discount = generate_discount_coupon(customer_id, sample_cart)\n",
        "print(f\"Discount for {customer_id}: {discount}%\")\n",
        "\n",
        "# Now, apply this discount to the cart value (example calculation)\n",
        "cart_value = 2000\n",
        "  # Example cart value\n",
        "discounted_value = cart_value * (1 - discount / 100)\n",
        "print(f\"Original Cart Value: {cart_value}, Discounted Value: {discounted_value}\")\n"
      ],
      "metadata": {
        "colab": {
          "base_uri": "https://localhost:8080/"
        },
        "id": "a6mmHlseUd4d",
        "outputId": "777a541e-99d6-4b59-e38b-4d39383871c6"
      },
      "execution_count": null,
      "outputs": [
        {
          "output_type": "stream",
          "name": "stdout",
          "text": [
            "Discount for Customer_1: 19.73813420621931%\n",
            "Original Cart Value: 2000, Discounted Value: 1605.2373158756138\n"
          ]
        },
        {
          "output_type": "stream",
          "name": "stderr",
          "text": [
            "/usr/local/lib/python3.10/dist-packages/ipykernel/ipkernel.py:283: DeprecationWarning: `should_run_async` will not call `transform_cell` automatically in the future. Please pass the result to `transformed_cell` argument and any exception that happen during thetransform in `preprocessing_exc_tuple` in IPython 7.17 and above.\n",
            "  and should_run_async(code)\n"
          ]
        }
      ]
    }
  ]
}